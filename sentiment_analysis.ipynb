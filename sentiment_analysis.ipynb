{
 "cells": [
  {
   "cell_type": "code",
   "execution_count": 18,
   "metadata": {},
   "outputs": [],
   "source": [
    "import spacy\n",
    "import pandas as pd\n",
    "from textblob import TextBlob\n",
    "nlp = spacy.load('en_core_web_md')\n",
    "import random"
   ]
  },
  {
   "cell_type": "code",
   "execution_count": null,
   "metadata": {},
   "outputs": [],
   "source": [
    "df = pd.read_csv('amazon_product_reviews.csv', index_col=0)"
   ]
  },
  {
   "cell_type": "code",
   "execution_count": 6,
   "metadata": {},
   "outputs": [
    {
     "name": "stderr",
     "output_type": "stream",
     "text": [
      "C:\\Users\\Han\\AppData\\Local\\Temp\\ipykernel_17236\\1350769430.py:9: SettingWithCopyWarning: \n",
      "A value is trying to be set on a copy of a slice from a DataFrame.\n",
      "Try using .loc[row_indexer,col_indexer] = value instead\n",
      "\n",
      "See the caveats in the documentation: https://pandas.pydata.org/pandas-docs/stable/user_guide/indexing.html#returning-a-view-versus-a-copy\n",
      "  clean_data['reviews.text'] = clean_data['reviews.text'].astype(str)\n",
      "C:\\Users\\Han\\AppData\\Local\\Temp\\ipykernel_17236\\1350769430.py:13: SettingWithCopyWarning: \n",
      "A value is trying to be set on a copy of a slice from a DataFrame.\n",
      "Try using .loc[row_indexer,col_indexer] = value instead\n",
      "\n",
      "See the caveats in the documentation: https://pandas.pydata.org/pandas-docs/stable/user_guide/indexing.html#returning-a-view-versus-a-copy\n",
      "  clean_data['reviews.text'] = clean_data['reviews.text'].str.lower()\n",
      "C:\\Users\\Han\\AppData\\Local\\Temp\\ipykernel_17236\\1350769430.py:17: SettingWithCopyWarning: \n",
      "A value is trying to be set on a copy of a slice from a DataFrame.\n",
      "Try using .loc[row_indexer,col_indexer] = value instead\n",
      "\n",
      "See the caveats in the documentation: https://pandas.pydata.org/pandas-docs/stable/user_guide/indexing.html#returning-a-view-versus-a-copy\n",
      "  clean_data['reviews.text'] = clean_data['reviews.text'].str.strip()\n"
     ]
    }
   ],
   "source": [
    "# Remove stopwords and perform any necessary preproccessing text cleaning\n",
    "\n",
    "# Remove missing data\n",
    "\n",
    "clean_data = df.dropna(subset=['reviews.text'])\n",
    "\n",
    "# clean the text by converting to string\n",
    "\n",
    "clean_data['reviews.text'] = clean_data['reviews.text'].astype(str)\n",
    "\n",
    "# convert to lowercase\n",
    "\n",
    "clean_data['reviews.text'] = clean_data['reviews.text'].str.lower()\n",
    "\n",
    "# remove leading or trailing empty space\n",
    "\n",
    "clean_data['reviews.text'] = clean_data['reviews.text'].str.strip()\n",
    "\n",
    "# select the reviews column to process\n",
    "\n",
    "reviews_data = clean_data['reviews.text']"
   ]
  },
  {
   "cell_type": "code",
   "execution_count": 7,
   "metadata": {},
   "outputs": [],
   "source": [
    "# nlp the review text\n",
    "\n",
    "processed_reviews = [nlp(review) for review in reviews_data]"
   ]
  },
  {
   "cell_type": "code",
   "execution_count": 12,
   "metadata": {},
   "outputs": [],
   "source": [
    "# review data without stop words ('the', 'is' etc.)\n",
    "\n",
    "filtered_reviews = [' '.join([token.text for token in doc if not token.is_stop]) for doc in processed_reviews]"
   ]
  },
  {
   "cell_type": "code",
   "execution_count": 13,
   "metadata": {},
   "outputs": [],
   "source": [
    "# Analysing sentiment and polarity using TextBlob\n",
    "\n",
    "blob = [TextBlob(review) for review in filtered_reviews]"
   ]
  },
  {
   "cell_type": "code",
   "execution_count": 14,
   "metadata": {},
   "outputs": [],
   "source": [
    "# Analyse sentiment for each review\n",
    "sentiments = []\n",
    "for review_blob in blob:\n",
    "    sentiment = review_blob.sentiment\n",
    "    sentiments.append(sentiment)"
   ]
  },
  {
   "cell_type": "code",
   "execution_count": 16,
   "metadata": {},
   "outputs": [],
   "source": [
    "# Analyse polarity for each review\n",
    "polarities = []\n",
    "for review_blob in blob:\n",
    "    polarity = review_blob.polarity\n",
    "    polarities.append(polarity)"
   ]
  },
  {
   "cell_type": "code",
   "execution_count": 133,
   "metadata": {},
   "outputs": [
    {
     "name": "stdout",
     "output_type": "stream",
     "text": [
      "this really isn't a very good tablet by any measure other than bang for your buck. i bought this for about $35 just to kill time on a couple of long flights so i didn't wear out the battery on my phone. i definitely wouldn't recommend using this for reading as the screen resolution is really below average and be tough to look at. i only used it to read some comics and play games on a screen bigger than a phone so i got what i wanted out of it.\n",
      "\n",
      "Sentiment(polarity=0.0185185185185185, subjectivity=0.5388888888888889), Polarity: 0.0185185185185185\n"
     ]
    }
   ],
   "source": [
    "# Check random reviews to see if the sentiment/polarity functions have worked\n",
    "\n",
    "# Choose a random index\n",
    "random_index = random.randint(0, len(blob) - 1)\n",
    "\n",
    "# Get the review text and sentiment at the random index\n",
    "random_review = processed_reviews[random_index]\n",
    "random_sentiment = sentiments[random_index]\n",
    "random_polarity = polarities[random_index]\n",
    "\n",
    "# Print the review text and its sentiment\n",
    "print(random_review)\n",
    "print(f\"\\n{random_sentiment}, Polarity: {random_polarity}\")"
   ]
  },
  {
   "cell_type": "code",
   "execution_count": 22,
   "metadata": {},
   "outputs": [
    {
     "name": "stdout",
     "output_type": "stream",
     "text": [
      "1: this product so far has not disappointed. my children love to use it and i like the ability to monitor control what content they see with ease.\n",
      "2: great for e-reading on the go, nice and light weight, and for the price point given, definitely worth the purchase.\n",
      "0.7585882474652317\n"
     ]
    }
   ],
   "source": [
    "# check similarity between two reviews\n",
    "\n",
    "review1 = processed_reviews[0]\n",
    "review2 = processed_reviews[6]\n",
    "\n",
    "similarity_score = review1.similarity(review2)\n",
    "\n",
    "print(f'1: {review1}')\n",
    "print(f'2: {review2}')\n",
    "print(similarity_score)"
   ]
  }
 ],
 "metadata": {
  "kernelspec": {
   "display_name": "Python 3",
   "language": "python",
   "name": "python3"
  },
  "language_info": {
   "codemirror_mode": {
    "name": "ipython",
    "version": 3
   },
   "file_extension": ".py",
   "mimetype": "text/x-python",
   "name": "python",
   "nbconvert_exporter": "python",
   "pygments_lexer": "ipython3",
   "version": "3.12.2"
  }
 },
 "nbformat": 4,
 "nbformat_minor": 2
}
